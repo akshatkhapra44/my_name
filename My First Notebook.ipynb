{
 "cells": [
  {
   "cell_type": "code",
   "execution_count": 2,
   "id": "7958a2cc",
   "metadata": {},
   "outputs": [],
   "source": [
    "name = 'Akshat Khapra'"
   ]
  },
  {
   "cell_type": "code",
   "execution_count": 3,
   "id": "5cbc2539",
   "metadata": {},
   "outputs": [
    {
     "name": "stdout",
     "output_type": "stream",
     "text": [
      "My name is:=   Akshat Khapra\n"
     ]
    }
   ],
   "source": [
    "print(\"My name is:=  \", name)"
   ]
  },
  {
   "cell_type": "code",
   "execution_count": null,
   "id": "7ba6c162",
   "metadata": {},
   "outputs": [],
   "source": []
  }
 ],
 "metadata": {
  "kernelspec": {
   "display_name": "Python 3",
   "language": "python",
   "name": "python3"
  },
  "language_info": {
   "codemirror_mode": {
    "name": "ipython",
    "version": 3
   },
   "file_extension": ".py",
   "mimetype": "text/x-python",
   "name": "python",
   "nbconvert_exporter": "python",
   "pygments_lexer": "ipython3",
   "version": "3.8.8"
  }
 },
 "nbformat": 4,
 "nbformat_minor": 5
}
